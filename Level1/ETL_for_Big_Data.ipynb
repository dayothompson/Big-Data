{
  "nbformat": 4,
  "nbformat_minor": 0,
  "metadata": {
    "colab": {
      "name": "ETL for Big Data.ipynb",
      "provenance": [],
      "authorship_tag": "ABX9TyOrNQ06/DRDiY1LovTPxvDe",
      "include_colab_link": true
    },
    "kernelspec": {
      "name": "python3",
      "display_name": "Python 3"
    }
  },
  "cells": [
    {
      "cell_type": "markdown",
      "metadata": {
        "id": "view-in-github",
        "colab_type": "text"
      },
      "source": [
        "<a href=\"https://colab.research.google.com/github/dayothompson/Big-Data/blob/main/Level1/ETL_for_Big_Data.ipynb\" target=\"_parent\"><img src=\"https://colab.research.google.com/assets/colab-badge.svg\" alt=\"Open In Colab\"/></a>"
      ]
    },
    {
      "cell_type": "code",
      "metadata": {
        "id": "U5KgB_xsAGPn",
        "outputId": "74b8236e-b5ca-4f0c-9f4d-dbecac8b9c02",
        "colab": {
          "base_uri": "https://localhost:8080/"
        }
      },
      "source": [
        "import os\n",
        "# Find the latest version of spark 2.0  from http://www-us.apache.org/dist/spark/ and enter as the spark version\n",
        "# For example:\n",
        "# spark_version = 'spark-2.4.7'\n",
        "spark_version = 'spark-2.4.7'\n",
        "os.environ['SPARK_VERSION']=spark_version\n",
        "# Install Spark and Java\n",
        "!apt-get update\n",
        "!apt-get install openjdk-8-jdk-headless -qq > /dev/null\n",
        "!wget -q http://www-us.apache.org/dist/spark/$SPARK_VERSION/$SPARK_VERSION-bin-hadoop2.7.tgz\n",
        "!tar xf $SPARK_VERSION-bin-hadoop2.7.tgz\n",
        "!pip install -q findspark\n",
        "# Set Environment Variables\n",
        "import os\n",
        "os.environ[\"JAVA_HOME\"] = \"/usr/lib/jvm/java-8-openjdk-amd64\"\n",
        "os.environ[\"SPARK_HOME\"] = f\"/content/{spark_version}-bin-hadoop2.7\"\n",
        "# Start a SparkSession\n",
        "import findspark\n",
        "findspark.init()"
      ],
      "execution_count": 7,
      "outputs": [
        {
          "output_type": "stream",
          "text": [
            "\r0% [Working]\r            \rHit:1 http://security.ubuntu.com/ubuntu bionic-security InRelease\n",
            "\r0% [Connecting to archive.ubuntu.com] [Connecting to cloud.r-project.org] [Conn\r0% [1 InRelease gpgv 88.7 kB] [Connecting to archive.ubuntu.com] [Connecting to\r                                                                               \rIgn:2 https://developer.download.nvidia.com/compute/cuda/repos/ubuntu1804/x86_64  InRelease\n",
            "\r0% [1 InRelease gpgv 88.7 kB] [Connecting to archive.ubuntu.com (91.189.88.152)\r                                                                               \rIgn:3 https://developer.download.nvidia.com/compute/machine-learning/repos/ubuntu1804/x86_64  InRelease\n",
            "\r0% [1 InRelease gpgv 88.7 kB] [Connecting to archive.ubuntu.com (91.189.88.152)\r                                                                               \rHit:4 http://ppa.launchpad.net/c2d4u.team/c2d4u4.0+/ubuntu bionic InRelease\n",
            "\r0% [1 InRelease gpgv 88.7 kB] [Connecting to archive.ubuntu.com (91.189.88.152)\r                                                                               \rHit:5 https://developer.download.nvidia.com/compute/cuda/repos/ubuntu1804/x86_64  Release\n",
            "\r0% [1 InRelease gpgv 88.7 kB] [Waiting for headers] [Waiting for headers] [Conn\r                                                                               \rHit:6 https://developer.download.nvidia.com/compute/machine-learning/repos/ubuntu1804/x86_64  Release\n",
            "\r0% [1 InRelease gpgv 88.7 kB] [Waiting for headers] [Waiting for headers] [Conn\r                                                                               \rHit:7 https://cloud.r-project.org/bin/linux/ubuntu bionic-cran40/ InRelease\n",
            "Hit:8 http://archive.ubuntu.com/ubuntu bionic InRelease\n",
            "Hit:9 http://ppa.launchpad.net/graphics-drivers/ppa/ubuntu bionic InRelease\n",
            "Hit:10 http://archive.ubuntu.com/ubuntu bionic-updates InRelease\n",
            "Hit:11 http://archive.ubuntu.com/ubuntu bionic-backports InRelease\n",
            "Reading package lists... Done\n"
          ],
          "name": "stdout"
        }
      ]
    },
    {
      "cell_type": "code",
      "metadata": {
        "id": "OU2Ummokvpo-",
        "outputId": "4e7b6581-8a2f-4a39-f1d3-0b792fa9677f",
        "colab": {
          "base_uri": "https://localhost:8080/"
        }
      },
      "source": [
        "!wget https://jdbc.postgresql.org/download/postgresql-42.2.9.jar"
      ],
      "execution_count": 8,
      "outputs": [
        {
          "output_type": "stream",
          "text": [
            "--2020-10-31 22:13:21--  https://jdbc.postgresql.org/download/postgresql-42.2.9.jar\n",
            "Resolving jdbc.postgresql.org (jdbc.postgresql.org)... 72.32.157.228, 2001:4800:3e1:1::228\n",
            "Connecting to jdbc.postgresql.org (jdbc.postgresql.org)|72.32.157.228|:443... connected.\n",
            "HTTP request sent, awaiting response... 200 OK\n",
            "Length: 914037 (893K) [application/java-archive]\n",
            "Saving to: ‘postgresql-42.2.9.jar.3’\n",
            "\n",
            "postgresql-42.2.9.j 100%[===================>] 892.61K  5.02MB/s    in 0.2s    \n",
            "\n",
            "2020-10-31 22:13:21 (5.02 MB/s) - ‘postgresql-42.2.9.jar.3’ saved [914037/914037]\n",
            "\n"
          ],
          "name": "stdout"
        }
      ]
    },
    {
      "cell_type": "code",
      "metadata": {
        "id": "VzlcQ1pXqC1Z"
      },
      "source": [
        "from pyspark.sql import SparkSession\n",
        "spark = SparkSession.builder.appName(\"CloudETL\").config(\"spark.driver.extraClassPath\",\"/content/postgresql-42.2.9.jar\").getOrCreate()"
      ],
      "execution_count": 9,
      "outputs": []
    },
    {
      "cell_type": "code",
      "metadata": {
        "id": "QSFx9dl_uGm3",
        "outputId": "865dabe8-1a7e-43ea-a676-97e7595cfbd7",
        "colab": {
          "base_uri": "https://localhost:8080/"
        }
      },
      "source": [
        "from pyspark import SparkFiles\n",
        "# Load in employee.csv from S3 into a DataFrame\n",
        "url = \"https://dayotestdb.s3.us-east-2.amazonaws.com/amazon_reviews_us_Wireless_v1_00.tsv\"\n",
        "spark.sparkContext.addFile(url)\n",
        "\n",
        "# df = spark.read.csv(SparkFiles.get(\"employee.csv\"), sep=\",\", header=True, inferSchema=True)\n",
        "\n",
        "df = spark.read.option('header', 'true').csv(SparkFiles.get(\"amazon_reviews_us_Wireless_v1_00.tsv\"), inferSchema=True, sep='\\t', timestampFormat=\"mm/dd/yy\")\n",
        "df.show(10)"
      ],
      "execution_count": 11,
      "outputs": [
        {
          "output_type": "stream",
          "text": [
            "+-----------+-----------+--------------+----------+--------------+--------------------+----------------+-----------+-------------+-----------+----+-----------------+--------------------+--------------------+-------------------+\n",
            "|marketplace|customer_id|     review_id|product_id|product_parent|       product_title|product_category|star_rating|helpful_votes|total_votes|vine|verified_purchase|     review_headline|         review_body|        review_date|\n",
            "+-----------+-----------+--------------+----------+--------------+--------------------+----------------+-----------+-------------+-----------+----+-----------------+--------------------+--------------------+-------------------+\n",
            "|         US|   16414143|R3W4P9UBGNGH1U|B00YL0EKWE|     852431543|LG G4 Case Hard T...|        Wireless|          2|            1|          3|   N|                Y|Looks good, funct...|2 issues  -  Once...|2015-08-31 00:00:00|\n",
            "|         US|   50800750|R15V54KBMTQWAY|B00XK95RPQ|     516894650|Selfie Stick Fibl...|        Wireless|          4|            0|          0|   N|                N| A fun little gadget|I’m embarrassed t...|2015-08-31 00:00:00|\n",
            "|         US|   15184378| RY8I449HNXSVF|B00SXRXUKO|     984297154|Tribe AB40 Water ...|        Wireless|          5|            0|          0|   N|                Y|          Five Stars|  Fits iPhone 6 well|2015-08-31 00:00:00|\n",
            "|         US|   10203548|R18TLJYCKJFLSR|B009V5X1CE|     279912704|RAVPower® Element...|        Wireless|          5|            0|          0|   N|                Y|       Great charger|Great charger.  I...|2015-08-31 00:00:00|\n",
            "|         US|     488280|R1NK26SWS53B8Q|B00D93OVF0|     662791300|Fosmon Micro USB ...|        Wireless|          5|            0|          0|   N|                Y|          Five Stars|Great for the pri...|2015-08-31 00:00:00|\n",
            "|         US|   13334021|R11LOHEDYJALTN|B00XVGJMDQ|     421688488|iPhone 6 Case, Vo...|        Wireless|          5|            0|          0|   N|                Y|          Five Stars|Great Case, bette...|2015-08-31 00:00:00|\n",
            "|         US|   27520697|R3ALQVQB2P9LA7|B00KQW1X1C|     554285554|Nokia Lumia 630 R...|        Wireless|          4|            0|          0|   N|                Y|          Four Stars|Easy to set up an...|2015-08-31 00:00:00|\n",
            "|         US|   48086021|R3MWLXLNO21PDQ|B00IP1MQNK|     488006702|Lumsing 10400mah ...|        Wireless|          5|            0|          0|   N|                Y|          Five Stars|         Works great|2015-08-31 00:00:00|\n",
            "|         US|   12738196|R2L15IS24CX0LI|B00HVORET8|     389677711|iPhone 5S Battery...|        Wireless|          5|            0|          0|   N|                Y|      So far so good|So far so good. I...|2015-08-31 00:00:00|\n",
            "|         US|   15867807|R1DJ8976WPWVZU|B00HX3G6J6|     299654876|HTC One M8 Screen...|        Wireless|          3|            0|          0|   N|                Y|seems durable but...|seems durable but...|2015-08-31 00:00:00|\n",
            "+-----------+-----------+--------------+----------+--------------+--------------------+----------------+-----------+-------------+-----------+----+-----------------+--------------------+--------------------+-------------------+\n",
            "only showing top 10 rows\n",
            "\n"
          ],
          "name": "stdout"
        }
      ]
    },
    {
      "cell_type": "code",
      "metadata": {
        "id": "XfBSTBmqtqzB",
        "outputId": "939a7eb4-2a72-4be0-b0d6-104694728f32",
        "colab": {
          "base_uri": "https://localhost:8080/"
        }
      },
      "source": [
        "from pyspark.sql.functions import column\n",
        "\n",
        "print(f'The number of records in this dataset is {df.count()}')"
      ],
      "execution_count": 20,
      "outputs": [
        {
          "output_type": "stream",
          "text": [
            "The number of records in this dataset is 9002021\n"
          ],
          "name": "stdout"
        }
      ]
    },
    {
      "cell_type": "code",
      "metadata": {
        "id": "dhlM832TxLVD",
        "outputId": "3b317e66-bc9e-4be8-87b0-990685b0dc76",
        "colab": {
          "base_uri": "https://localhost:8080/"
        }
      },
      "source": [
        "review_id_table = df[[\"review_id\", \"customer_id\", \"product_id\", \"product_parent\", \"review_date\"]]\n",
        "review_id_table.show()"
      ],
      "execution_count": 22,
      "outputs": [
        {
          "output_type": "stream",
          "text": [
            "+--------------+-----------+----------+--------------+-------------------+\n",
            "|     review_id|customer_id|product_id|product_parent|        review_date|\n",
            "+--------------+-----------+----------+--------------+-------------------+\n",
            "|R3W4P9UBGNGH1U|   16414143|B00YL0EKWE|     852431543|2015-08-31 00:00:00|\n",
            "|R15V54KBMTQWAY|   50800750|B00XK95RPQ|     516894650|2015-08-31 00:00:00|\n",
            "| RY8I449HNXSVF|   15184378|B00SXRXUKO|     984297154|2015-08-31 00:00:00|\n",
            "|R18TLJYCKJFLSR|   10203548|B009V5X1CE|     279912704|2015-08-31 00:00:00|\n",
            "|R1NK26SWS53B8Q|     488280|B00D93OVF0|     662791300|2015-08-31 00:00:00|\n",
            "|R11LOHEDYJALTN|   13334021|B00XVGJMDQ|     421688488|2015-08-31 00:00:00|\n",
            "|R3ALQVQB2P9LA7|   27520697|B00KQW1X1C|     554285554|2015-08-31 00:00:00|\n",
            "|R3MWLXLNO21PDQ|   48086021|B00IP1MQNK|     488006702|2015-08-31 00:00:00|\n",
            "|R2L15IS24CX0LI|   12738196|B00HVORET8|     389677711|2015-08-31 00:00:00|\n",
            "|R1DJ8976WPWVZU|   15867807|B00HX3G6J6|     299654876|2015-08-31 00:00:00|\n",
            "|R3MRWNNR8CBTB7|    1972249|B00U4NATNQ|     577878727|2015-08-31 00:00:00|\n",
            "|R1DS6DKTUXAQK3|   10956619|B00SZEFDH8|     654620704|2015-08-31 00:00:00|\n",
            "| RWJM5E0TWUJD2|   14805911|B00JRJUL9U|     391166958|2015-08-31 00:00:00|\n",
            "|R1XTJKDYNCRGAC|   15611116|B00KQ4T0HE|     481551630|2015-08-31 00:00:00|\n",
            "|R2UZL3DPWEU1XW|   39298603|B00M0YWKPM|     685107474|2015-08-31 00:00:00|\n",
            "|R2EZXET9KBFFU3|   17552454|B00KDZEE68|     148320945|2015-08-31 00:00:00|\n",
            "|R26VY1L1FD3LPU|   12218556|B00BJN45GM|      47788188|2015-08-31 00:00:00|\n",
            "|R2SSA4NSFCV18T|   21872923|B00SA86SXW|     748759272|2015-08-31 00:00:00|\n",
            "|R1G6333JHJNEUQ|   16264332|B00Q3I68TU|     974085141|2015-08-31 00:00:00|\n",
            "|R2DRG0UZXJQ0PE|    6042304|B00TN4J1TA|     716174627|2015-08-31 00:00:00|\n",
            "+--------------+-----------+----------+--------------+-------------------+\n",
            "only showing top 20 rows\n",
            "\n"
          ],
          "name": "stdout"
        }
      ]
    },
    {
      "cell_type": "code",
      "metadata": {
        "id": "zB1c939EAqaV",
        "outputId": "72a1cab3-fe23-4ede-eb85-f9702a96e762",
        "colab": {
          "base_uri": "https://localhost:8080/"
        }
      },
      "source": [
        "all_products = df.select(\"product_id\", \"product_title\").distinct()\n",
        "products = all_products.drop_duplicates(subset=[\"product_id\"])\n",
        "products.show()"
      ],
      "execution_count": 81,
      "outputs": [
        {
          "output_type": "stream",
          "text": [
            "+----------+--------------------+\n",
            "|product_id|       product_title|\n",
            "+----------+--------------------+\n",
            "|1060104342|Premium Asus MeMO...|\n",
            "|159775045X|National Geograph...|\n",
            "|5891090414|           STAND-N02|\n",
            "|6175001532|Colorful Abstract...|\n",
            "|9572548964|Pink Flower Purpl...|\n",
            "|9713000463|Rapid Charger KIT...|\n",
            "|9838427853|PowerBear® Samsun...|\n",
            "|9861033181|Purple Flower Blu...|\n",
            "|9983781239|PREMIUM USB Adapt...|\n",
            "|9984225437|Sanyo MM-8300 Sta...|\n",
            "|B00000J0IV|Magellan Leather ...|\n",
            "|B00000J1PX|Cobra MAVOX Voice...|\n",
            "|B00003OPEV|Garmin eMap Delux...|\n",
            "|B0000520T4|Ericsson 650 mAh ...|\n",
            "|B00005I9QK|Aquapac Waterproo...|\n",
            "|B00005QT35|Garmin GPS 45 Per...|\n",
            "|B00006JP9X|AMERICAN INTERNAT...|\n",
            "|B00007EDL7|Sony DCC-E34CP Po...|\n",
            "|B00008E1OH|Samsung Leather C...|\n",
            "|B00008RCQS|Virgin Mobile Pay...|\n",
            "+----------+--------------------+\n",
            "only showing top 20 rows\n",
            "\n"
          ],
          "name": "stdout"
        }
      ]
    },
    {
      "cell_type": "code",
      "metadata": {
        "id": "pzPGEbQg1Ok_",
        "outputId": "619f89a6-d57e-4529-c449-ab54e8daebee",
        "colab": {
          "base_uri": "https://localhost:8080/"
        }
      },
      "source": [
        "from pyspark.sql.functions import col, countDistinct\n",
        "\n",
        "cust_count = df.groupBy(\"customer_id\").count().sort(col(\"count\").desc())\n",
        "customers = cust_count.withColumnRenamed(\"count\", \"customer_count\")\n",
        "customers.show()"
      ],
      "execution_count": 55,
      "outputs": [
        {
          "output_type": "stream",
          "text": [
            "+-----------+--------------+\n",
            "|customer_id|customer_count|\n",
            "+-----------+--------------+\n",
            "|   30208851|           616|\n",
            "|   53037408|           493|\n",
            "|   45070473|           437|\n",
            "|   49266466|           435|\n",
            "|   32038204|           427|\n",
            "|   52870270|           353|\n",
            "|   44834233|           330|\n",
            "|   11995502|           319|\n",
            "|   51346302|           318|\n",
            "|   43856165|           316|\n",
            "|   15886030|           292|\n",
            "|   35353346|           284|\n",
            "|   12200139|           267|\n",
            "|   50027179|           266|\n",
            "|   52228204|           262|\n",
            "|   13355404|           261|\n",
            "|   53090839|           261|\n",
            "|   52496677|           259|\n",
            "|   51712970|           255|\n",
            "|   39789300|           242|\n",
            "+-----------+--------------+\n",
            "only showing top 20 rows\n",
            "\n"
          ],
          "name": "stdout"
        }
      ]
    },
    {
      "cell_type": "code",
      "metadata": {
        "id": "5wBbAzH90xgr",
        "outputId": "00c3f014-e008-4e85-a500-cdc69dbf1207",
        "colab": {
          "base_uri": "https://localhost:8080/"
        }
      },
      "source": [
        "vine_table = df[[\"review_id\", \"star_rating\", \"helpful_votes\", \"total_votes\", \"vine\"]]\n",
        "vine_table.show()"
      ],
      "execution_count": 25,
      "outputs": [
        {
          "output_type": "stream",
          "text": [
            "+--------------+-----------+-------------+-----------+----+\n",
            "|     review_id|star_rating|helpful_votes|total_votes|vine|\n",
            "+--------------+-----------+-------------+-----------+----+\n",
            "|R3W4P9UBGNGH1U|          2|            1|          3|   N|\n",
            "|R15V54KBMTQWAY|          4|            0|          0|   N|\n",
            "| RY8I449HNXSVF|          5|            0|          0|   N|\n",
            "|R18TLJYCKJFLSR|          5|            0|          0|   N|\n",
            "|R1NK26SWS53B8Q|          5|            0|          0|   N|\n",
            "|R11LOHEDYJALTN|          5|            0|          0|   N|\n",
            "|R3ALQVQB2P9LA7|          4|            0|          0|   N|\n",
            "|R3MWLXLNO21PDQ|          5|            0|          0|   N|\n",
            "|R2L15IS24CX0LI|          5|            0|          0|   N|\n",
            "|R1DJ8976WPWVZU|          3|            0|          0|   N|\n",
            "|R3MRWNNR8CBTB7|          5|            0|          0|   N|\n",
            "|R1DS6DKTUXAQK3|          5|            0|          0|   N|\n",
            "| RWJM5E0TWUJD2|          5|            0|          0|   N|\n",
            "|R1XTJKDYNCRGAC|          1|            0|          0|   N|\n",
            "|R2UZL3DPWEU1XW|          5|            0|          0|   N|\n",
            "|R2EZXET9KBFFU3|          1|            0|          0|   N|\n",
            "|R26VY1L1FD3LPU|          5|            0|          0|   N|\n",
            "|R2SSA4NSFCV18T|          5|            0|          0|   N|\n",
            "|R1G6333JHJNEUQ|          5|            0|          0|   N|\n",
            "|R2DRG0UZXJQ0PE|          5|            0|          0|   N|\n",
            "+--------------+-----------+-------------+-----------+----+\n",
            "only showing top 20 rows\n",
            "\n"
          ],
          "name": "stdout"
        }
      ]
    },
    {
      "cell_type": "code",
      "metadata": {
        "id": "5VETbmzuI3u3"
      },
      "source": [
        "mode = \"append\"\n",
        "jdbc_url=\"jdbc:postgresql://database2.cvwelutnfhgq.us-east-2.rds.amazonaws.com:5432/database2\"\n",
        "config = {\"user\": \"root2\", \n",
        "          \"password\": \"12345678\", \n",
        "          \"driver\": \"org.postgresql.Driver\"}"
      ],
      "execution_count": 99,
      "outputs": []
    },
    {
      "cell_type": "code",
      "metadata": {
        "id": "i9yYb6BqMRpl"
      },
      "source": [
        "review_id_table.write.jdbc(url=jdbc_url, table=\"review_id_table\", mode=mode, properties=config)"
      ],
      "execution_count": 92,
      "outputs": []
    },
    {
      "cell_type": "code",
      "metadata": {
        "id": "0KzyADzvMQwk"
      },
      "source": [
        "products.write.jdbc(url=jdbc_url, table=\"products\", mode=mode, properties=config)"
      ],
      "execution_count": 93,
      "outputs": []
    },
    {
      "cell_type": "code",
      "metadata": {
        "id": "64BOz6BZMOtl"
      },
      "source": [
        "customers.write.jdbc(url=jdbc_url, table=\"customers\", mode=mode, properties=config)"
      ],
      "execution_count": 94,
      "outputs": []
    },
    {
      "cell_type": "code",
      "metadata": {
        "id": "xs5_k9MLJAGa"
      },
      "source": [
        "vine_table.write.jdbc(url=jdbc_url, table=\"vine_table\", mode=mode, properties=config)"
      ],
      "execution_count": 100,
      "outputs": []
    }
  ]
}